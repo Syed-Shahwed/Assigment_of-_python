{
  "nbformat": 4,
  "nbformat_minor": 0,
  "metadata": {
    "colab": {
      "provenance": [],
      "authorship_tag": "ABX9TyO/WIOislEC9FLc5uCW03vv",
      "include_colab_link": true
    },
    "kernelspec": {
      "name": "python3",
      "display_name": "Python 3"
    },
    "language_info": {
      "name": "python"
    }
  },
  "cells": [
    {
      "cell_type": "markdown",
      "metadata": {
        "id": "view-in-github",
        "colab_type": "text"
      },
      "source": [
        "<a href=\"https://colab.research.google.com/github/Syed-Shahwed/Assigment_of-_python/blob/main/Assigment_04.ipynb\" target=\"_parent\"><img src=\"https://colab.research.google.com/assets/colab-badge.svg\" alt=\"Open In Colab\"/></a>"
      ]
    },
    {
      "cell_type": "markdown",
      "source": [
        "# **List Assigment**"
      ],
      "metadata": {
        "id": "GjH0w5rf34XE"
      }
    },
    {
      "cell_type": "markdown",
      "source": [
        "1. Write a program that accepts a list from user and print the alternate element of list."
      ],
      "metadata": {
        "id": "gx0WJKxH4L3t"
      }
    },
    {
      "cell_type": "code",
      "source": [
        "lst = input(\"Enter a list (space-separated): \").split()\n",
        "print(lst[::2])\n"
      ],
      "metadata": {
        "colab": {
          "base_uri": "https://localhost:8080/"
        },
        "id": "TqRfNZ_E48Bu",
        "outputId": "8869df7e-18d3-45f6-ca8c-71b5845ed899"
      },
      "execution_count": 1,
      "outputs": [
        {
          "output_type": "stream",
          "name": "stdout",
          "text": [
            "Enter a list (space-separated): honda kaltas mahraan BMW\n",
            "['honda', 'mahraan']\n"
          ]
        }
      ]
    },
    {
      "cell_type": "markdown",
      "source": [
        "2. Write a program that accepts a list from user. Your program should reverse the content of list and\n",
        "display it. Do not use reverse() method"
      ],
      "metadata": {
        "id": "7VkJP3vK64QN"
      }
    },
    {
      "cell_type": "code",
      "source": [
        "lst = input(\"Enter a list (space-separated): \").split()\n",
        "rev_lst = []\n",
        "for i in range(len(lst)-1, -1, -1):\n",
        "    rev_lst.append(lst[i])\n",
        "print(rev_lst)\n"
      ],
      "metadata": {
        "colab": {
          "base_uri": "https://localhost:8080/"
        },
        "id": "6mmgb00Z4gIh",
        "outputId": "1bbd3880-67a9-4ce6-895e-ced3e5c8ee37"
      },
      "execution_count": 3,
      "outputs": [
        {
          "output_type": "stream",
          "name": "stdout",
          "text": [
            "Enter a list (space-separated): Apple Banana Mango\n",
            "['Mango', 'Banana', 'Apple']\n"
          ]
        }
      ]
    },
    {
      "cell_type": "markdown",
      "source": [
        "3. Find and display the largest number of a list without using built-in function max(). Your program\n",
        "should ask the user to input values in list from keyboard.\n",
        "\n"
      ],
      "metadata": {
        "id": "mirGugMB8Bcd"
      }
    },
    {
      "cell_type": "code",
      "source": [
        "lst = list(map(int, input(\"Enter a list (space-separated): \").split()))\n",
        "largest = lst[0]\n",
        "for num in lst:\n",
        "    if num > largest:\n",
        "        largest = num\n",
        "print(\"Largest number:\", largest)\n"
      ],
      "metadata": {
        "colab": {
          "base_uri": "https://localhost:8080/"
        },
        "id": "_zJtVkHG70GN",
        "outputId": "64affb53-2a89-43bb-aa85-00243d7e57b9"
      },
      "execution_count": 5,
      "outputs": [
        {
          "output_type": "stream",
          "name": "stdout",
          "text": [
            "Enter a list (space-separated): 3 56 32 67 32 87\n",
            "Largest number: 87\n"
          ]
        }
      ]
    },
    {
      "cell_type": "markdown",
      "source": [
        "   4.Write a program that rotates the element of a list so that the element at the first index moves to the\n",
        "second index, the element in the second index moves to the third index, etc., and the element in the last\n",
        "index moves to the first index."
      ],
      "metadata": {
        "id": "yZ1rPJyA9TTI"
      }
    },
    {
      "cell_type": "code",
      "source": [
        "\n",
        "def rotate_list(lst):\n",
        "    return [lst[-1]] + lst[:-1]\n",
        "\n",
        "lst = list(map(int, input(\"Enter a list (space-separated): \").split()))\n",
        "print(\"Original list:\", lst)\n",
        "print(\"Rotated list:\", rotate_list(lst))"
      ],
      "metadata": {
        "colab": {
          "base_uri": "https://localhost:8080/"
        },
        "id": "PWdhhYJK80bD",
        "outputId": "132cefc2-2b5d-4a58-ed0d-af6afc361e5d"
      },
      "execution_count": 6,
      "outputs": [
        {
          "output_type": "stream",
          "name": "stdout",
          "text": [
            "Enter a list (space-separated): 65 75 37 42 87 45 100 342 54\n",
            "Original list: [65, 75, 37, 42, 87, 45, 100, 342, 54]\n",
            "Rotated list: [54, 65, 75, 37, 42, 87, 45, 100, 342]\n"
          ]
        }
      ]
    },
    {
      "cell_type": "markdown",
      "source": [
        "5. Write a program that input a string and ask user to delete a given word from a string."
      ],
      "metadata": {
        "id": "tl15VjtE-pAu"
      }
    },
    {
      "cell_type": "code",
      "source": [
        "def delete_word(string, word):\n",
        "    return string.replace(word, \"\")\n",
        "\n",
        "string = input(\"Enter a string: \")\n",
        "word = input(\"Enter a word to delete: \")\n",
        "print(\"Original string:\", string)\n",
        "print(\"String after deletion:\", delete_word(string, word))"
      ],
      "metadata": {
        "colab": {
          "base_uri": "https://localhost:8080/"
        },
        "id": "tM_765r4-C2H",
        "outputId": "9cd3ab0b-c225-4f68-af4c-4345cdd84073"
      },
      "execution_count": 8,
      "outputs": [
        {
          "output_type": "stream",
          "name": "stdout",
          "text": [
            "Enter a string: shahwed ali ahmed varoon\n",
            "Enter a word to delete: ali\n",
            "Original string: shahwed ali ahmed varoon\n",
            "String after deletion: shahwed  ahmed varoon\n"
          ]
        }
      ]
    },
    {
      "cell_type": "markdown",
      "source": [
        "6. Write a program that reads a string from the user containing a date in the form mm/dd/yyyy. It\n",
        "should print the date in the form March 12, 2021."
      ],
      "metadata": {
        "id": "Y7rWy-7Y_duK"
      }
    },
    {
      "cell_type": "code",
      "source": [
        "\n",
        "from datetime import datetime\n",
        "\n",
        "date_str = input(\"Enter a date (mm/dd/yyyy): \")\n",
        "date_obj = datetime.strptime(date_str, \"%m/%d/%Y\")\n",
        "print(date_obj.strftime(\"%B %d, %Y\"))\n"
      ],
      "metadata": {
        "colab": {
          "base_uri": "https://localhost:8080/"
        },
        "id": "hWQvvShg-5u4",
        "outputId": "23538c9f-252e-4307-fe96-68d8a6e224f9"
      },
      "execution_count": 9,
      "outputs": [
        {
          "output_type": "stream",
          "name": "stdout",
          "text": [
            "Enter a date (mm/dd/yyyy): 09/08/2002\n",
            "September 08, 2002\n"
          ]
        }
      ]
    },
    {
      "cell_type": "markdown",
      "source": [
        "7.  a program with a function that accepts a string from keyboard and create a new string after\n",
        "converting character of each word capitalized. For instance, if the sentence is \"stop and smell the roses.\"\n",
        "the output should be \"Stop And Smell The Roses\""
      ],
      "metadata": {
        "id": "AqXwAG-iBMdS"
      }
    },
    {
      "cell_type": "code",
      "source": [
        "def capitalize_words(sentence):\n",
        "    return ' '.join(word.capitalize() for word in sentence.split())\n",
        "\n",
        "sentence = input(\"Enter a sentence: \")\n",
        "print(capitalize_words(sentence))\n"
      ],
      "metadata": {
        "colab": {
          "base_uri": "https://localhost:8080/"
        },
        "id": "im-_LPQVAMm7",
        "outputId": "0b8a7d5d-12a7-4481-8d1b-6b0741b0b24f"
      },
      "execution_count": 10,
      "outputs": [
        {
          "output_type": "stream",
          "name": "stdout",
          "text": [
            "Enter a sentence: My Name is Shahwed \n",
            "My Name Is Shahwed\n"
          ]
        }
      ]
    },
    {
      "cell_type": "markdown",
      "source": [
        "8. Find the sum of each row of matrix of size m x n. For example for the following matrix output will be\n",
        "like this :\n",
        "\n",
        "Sum of row 1 = 32\n",
        "\n",
        "Sum of row 2 = 31\n",
        "\n",
        "Sum of row 3 = 63"
      ],
      "metadata": {
        "id": "ldBNObxxDdTU"
      }
    },
    {
      "cell_type": "code",
      "source": [
        "def sum_rows(matrix):\n",
        "    for i, row in enumerate(matrix, start=1):\n",
        "        print(f\"Sum of row {i} = {sum(row)}\")\n",
        "\n",
        "m = int(input(\"Enter number of rows: \"))\n",
        "n = int(input(\"Enter number of columns: \"))\n",
        "\n",
        "matrix = []\n",
        "for i in range(m):\n",
        "    row = list(map(int, input(f\"Enter row {i+1} (space-separated): \").split()))\n",
        "    matrix.append(row)\n",
        "\n",
        "sum_rows(matrix)\n"
      ],
      "metadata": {
        "colab": {
          "base_uri": "https://localhost:8080/"
        },
        "id": "Sk5K-czlC5_T",
        "outputId": "af1843e6-b910-4a69-e483-1a77bee9bd5c"
      },
      "execution_count": 12,
      "outputs": [
        {
          "output_type": "stream",
          "name": "stdout",
          "text": [
            "Enter number of rows: 4\n",
            "Enter number of columns: 4\n",
            "Enter row 1 (space-separated): 32 43 56 54\n",
            "Enter row 2 (space-separated): 23 87 65 45\n",
            "Enter row 3 (space-separated): 23 56 42 87\n",
            "Enter row 4 (space-separated): 98 73 41 64\n",
            "Sum of row 1 = 185\n",
            "Sum of row 2 = 220\n",
            "Sum of row 3 = 208\n",
            "Sum of row 4 = 276\n"
          ]
        }
      ]
    },
    {
      "cell_type": "markdown",
      "source": [
        "9. Write a program to add two matrices of size n x m."
      ],
      "metadata": {
        "id": "BoSzYokMFDde"
      }
    },
    {
      "cell_type": "code",
      "source": [
        "def multiply_matrices(A, B):\n",
        "    result = [[sum(a*b for a, b in zip(A_row, B_col)) for B_col in zip(*B)] for A_row in A]\n",
        "    return result\n",
        "\n",
        "n = int(input())\n",
        "m = int(input())\n",
        "p = int(input())\n",
        "\n",
        "A = [list(map(int, input().split())) for _ in range(n)]\n",
        "B = [list(map(int, input().split())) for _ in range(m)]\n",
        "\n",
        "result = multiply_matrices(A, B)\n",
        "for row in result:\n",
        "    print(*row)"
      ],
      "metadata": {
        "colab": {
          "base_uri": "https://localhost:8080/"
        },
        "id": "Go-NIE6WGo5s",
        "outputId": "0abff368-309e-40d4-9f3e-94f1c26de98c"
      },
      "execution_count": 15,
      "outputs": [
        {
          "output_type": "stream",
          "name": "stdout",
          "text": [
            "1\n",
            "1\n",
            "54\n",
            "76\n",
            "54\n",
            "4104\n"
          ]
        }
      ]
    }
  ]
}