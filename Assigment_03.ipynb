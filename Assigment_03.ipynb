{
  "nbformat": 4,
  "nbformat_minor": 0,
  "metadata": {
    "colab": {
      "provenance": [],
      "authorship_tag": "ABX9TyNU7ez85/pBtxnyqK29VC6i",
      "include_colab_link": true
    },
    "kernelspec": {
      "name": "python3",
      "display_name": "Python 3"
    },
    "language_info": {
      "name": "python"
    }
  },
  "cells": [
    {
      "cell_type": "markdown",
      "metadata": {
        "id": "view-in-github",
        "colab_type": "text"
      },
      "source": [
        "<a href=\"https://colab.research.google.com/github/Syed-Shahwed/Assigment_of-_python/blob/main/Assigment_03.ipynb\" target=\"_parent\"><img src=\"https://colab.research.google.com/assets/colab-badge.svg\" alt=\"Open In Colab\"/></a>"
      ]
    },
    {
      "cell_type": "markdown",
      "source": [
        "# **Strings Assignments**\n",
        "\n"
      ],
      "metadata": {
        "id": "0ztojQqeC1vD"
      }
    },
    {
      "cell_type": "markdown",
      "source": [
        "**1. Write a program that accepts a string from user. Your program should count and display number of\n",
        "vowels in that string**"
      ],
      "metadata": {
        "id": "R04i2E1kEB0Y"
      }
    },
    {
      "cell_type": "code",
      "source": [
        "def count_vowels(input_string):\n",
        "    vowels = \"aeiouAEIOU\"\n",
        "    count = 0\n",
        "    for char in input_string:\n",
        "        if char in vowels:\n",
        "            count += 1\n",
        "    print(\"Number of vowels: \", count)\n",
        "\n",
        "input_string = input(\"Enter a string: \")\n",
        "count_vowels(input_string)"
      ],
      "metadata": {
        "colab": {
          "base_uri": "https://localhost:8080/"
        },
        "id": "e4RSJyheFi7e",
        "outputId": "a788fca9-9ec2-4450-8f2d-0d968e31d8b5"
      },
      "execution_count": null,
      "outputs": [
        {
          "output_type": "stream",
          "name": "stdout",
          "text": [
            "Enter a string: hallo\n",
            "Number of vowels:  2\n"
          ]
        }
      ]
    },
    {
      "cell_type": "markdown",
      "source": [
        "2. Write a program that reads a string from keyboard and display:\n",
        "* The number of uppercase letters in the string\n",
        "* The number of lowercase letters in the string\n",
        "* The number of digits in the string\n",
        "* The number of whitespace characters in the string **bold text**"
      ],
      "metadata": {
        "id": "UFGiP5NDG9fE"
      }
    },
    {
      "cell_type": "code",
      "source": [
        "\n",
        "def analyze_string(input_string):\n",
        "    uppercase = sum(1 for char in input_string if char.isupper())\n",
        "    lowercase = sum(1 for char in input_string if char.islower())\n",
        "    digits = sum(1 for char in input_string if char.isdigit())\n",
        "    whitespace = sum(1 for char in input_string if char.isspace())\n",
        "\n",
        "    print(\"Uppercase letters: \", uppercase)\n",
        "    print(\"Lowercase letters: \", lowercase)\n",
        "    print(\"Digits: \", digits)\n",
        "    print(\"Whitespace characters: \", whitespace)\n",
        "\n",
        "input_string = input(\"Enter a string: \")\n",
        "analyze_string(input_string)"
      ],
      "metadata": {
        "colab": {
          "base_uri": "https://localhost:8080/"
        },
        "id": "i1uzrAM6Gmua",
        "outputId": "530e84a0-ea7d-40f0-9d53-6462f14c8578"
      },
      "execution_count": null,
      "outputs": [
        {
          "output_type": "stream",
          "name": "stdout",
          "text": [
            "Enter a string: shahwed\n",
            "Uppercase letters:  0\n",
            "Lowercase letters:  7\n",
            "Digits:  0\n",
            "Whitespace characters:  0\n"
          ]
        }
      ]
    },
    {
      "cell_type": "markdown",
      "source": [
        "3. Write a Python program that accepts a string from user. Your program should create and display a\n",
        "new string where the first and last characters have been exchanged.\n",
        "For example if the user enters the string 'HELLO' then new string would be 'OELLH"
      ],
      "metadata": {
        "id": "1miuyCOVIb1a"
      }
    },
    {
      "cell_type": "code",
      "source": [
        "\n",
        "input_string = input(\"Enter a string: \")\n",
        "new_string = input_string[-1] + input_string[1:-1] + input_string[0]\n",
        "print(\"New string: \", new_string)"
      ],
      "metadata": {
        "colab": {
          "base_uri": "https://localhost:8080/"
        },
        "id": "uSGSuXGVItj2",
        "outputId": "36126850-a486-45e1-ca7c-1862f4ec6968"
      },
      "execution_count": null,
      "outputs": [
        {
          "output_type": "stream",
          "name": "stdout",
          "text": [
            "Enter a string: name\n",
            "New string:  eamn\n"
          ]
        }
      ]
    },
    {
      "cell_type": "markdown",
      "source": [
        "4. Write a Python program that accepts a string from user. Your program should create a new string in\n",
        "reverse of first string and display it.\n",
        "For example if the user enters the string 'EXAM' then new string would be 'MAXE\n",
        "\n"
      ],
      "metadata": {
        "id": "rKT_938IJMED"
      }
    },
    {
      "cell_type": "code",
      "source": [
        "\n",
        "input_string = input(\"Enter a string: \")\n",
        "new_string = input_string[::-1]\n",
        "print(\"New string: \", new_string)"
      ],
      "metadata": {
        "colab": {
          "base_uri": "https://localhost:8080/"
        },
        "id": "mnbkjVGNJX6w",
        "outputId": "d1fd71c7-33f2-40a1-f71e-39ef09781c78"
      },
      "execution_count": null,
      "outputs": [
        {
          "output_type": "stream",
          "name": "stdout",
          "text": [
            "Enter a string: exam\n",
            "New string:  maxe\n"
          ]
        }
      ]
    },
    {
      "cell_type": "markdown",
      "source": [
        "5. Write a Python program that accepts a string from user. Your program should create a new string by\n",
        "shifting one position to left.\n",
        "For example if the user enters the string 'examination 2021' then new string would be 'xamination\n",
        "2021e'"
      ],
      "metadata": {
        "id": "QubgiuK9KT6A"
      }
    },
    {
      "cell_type": "code",
      "source": [
        "input_string = input(\"Enter a string: \")\n",
        "new_string = input_string[1:] + input_string[0]\n",
        "print(\"New string: \", new_string)\n"
      ],
      "metadata": {
        "colab": {
          "base_uri": "https://localhost:8080/"
        },
        "id": "iWl-8Sz4K2n-",
        "outputId": "508e2d55-0a7c-4c81-ddd5-2d9d4d1b2c28"
      },
      "execution_count": null,
      "outputs": [
        {
          "output_type": "stream",
          "name": "stdout",
          "text": [
            "Enter a string: fdfsfsfgr\n",
            "New string:  dfsfsfgrf\n"
          ]
        }
      ]
    },
    {
      "cell_type": "markdown",
      "source": [
        "6. Write a program that asks the user to input his name and print its initials. Assuming that the user\n",
        "always types first name, middle name and last name and does not include any unnecessary spaces.\n",
        "For example, if the user enters Ajay Kumar Garg the program should display A. K. G.\n",
        "Note:Don't use split() method"
      ],
      "metadata": {
        "id": "99pdn3gDKTzj"
      }
    },
    {
      "cell_type": "code",
      "source": [
        "name = input(\"Enter your name: \")\n",
        "initials = \"\"\n",
        "for char in name:\n",
        "    if char.isupper():\n",
        "        initials += char + \". \"\n",
        "print(initials)\n"
      ],
      "metadata": {
        "colab": {
          "base_uri": "https://localhost:8080/"
        },
        "id": "2AqKwJKcKEeT",
        "outputId": "243f1d8a-7c94-4a45-fd0c-ff1892661e04"
      },
      "execution_count": null,
      "outputs": [
        {
          "output_type": "stream",
          "name": "stdout",
          "text": [
            "Enter your name: Syed Shahwed Shah\n",
            "S. S. S. \n"
          ]
        }
      ]
    },
    {
      "cell_type": "markdown",
      "source": [
        "7. A palindrome is a string that reads the same backward as forward. For example, the words dad,\n",
        "madam and radar are all palindromes. Write a programs that determines whether the string is a\n",
        "palindrome.\n",
        "Note: do not use reverse() met"
      ],
      "metadata": {
        "id": "niIF4mxzMLD2"
      }
    },
    {
      "cell_type": "code",
      "source": [
        "\n",
        "def is_palindrome(s):\n",
        "    left = 0\n",
        "    right = len(s) - 1\n",
        "    while left < right:\n",
        "        if s[left] != s[right]:\n",
        "            return False\n",
        "        left += 1\n",
        "        right -= 1\n",
        "    return True\n",
        "\n",
        "s = input(\"Enter a string: \")\n",
        "if is_palindrome(s):\n",
        "    print(\"The string is a palindrome.\")\n",
        "else:\n",
        "  def is_palindrome(s):\n",
        "    left = 0\n",
        "    right = len(s) - 1\n",
        "    while left < right:\n",
        "        if s[left] != s[right]:\n",
        "            return False\n",
        "        left += 1\n",
        "        right -= 1\n",
        "    return True\n",
        "\n",
        "s = input(\"Enter a string: \")\n",
        "if is_palindrome(s):\n",
        "    print(\"The string is a palindrome.\")\n",
        "else:\n",
        "    print(\"The string is not a palindrome.\")\n",
        "\n",
        "    print(\"The string is not a palindrome.\")\n"
      ],
      "metadata": {
        "id": "3eeUb_h4LrdO",
        "colab": {
          "base_uri": "https://localhost:8080/"
        },
        "outputId": "0c68542a-0b65-4ab0-a48e-5e48b683252a"
      },
      "execution_count": 11,
      "outputs": [
        {
          "output_type": "stream",
          "name": "stdout",
          "text": [
            "Enter a string: shahwed\n",
            "Enter a string: ali\n",
            "The string is not a palindrome.\n",
            "The string is not a palindrome.\n"
          ]
        }
      ]
    },
    {
      "cell_type": "markdown",
      "source": [
        "8. Write a program that display following output:\n",
        "SHIFT\n",
        "HIFTS\n",
        "IFTSH\n",
        "FTSHI\n",
        "TSHIF\n",
        "SHIFT"
      ],
      "metadata": {
        "id": "BRaYLYpdMlU2"
      }
    },
    {
      "cell_type": "code",
      "source": [
        "word = \"SHIFT\"\n",
        "for i in range(len(word)):\n",
        "    print(word[i:] + word[:i])\n"
      ],
      "metadata": {
        "colab": {
          "base_uri": "https://localhost:8080/"
        },
        "id": "n8eVcWgXO1IZ",
        "outputId": "567ee843-31e6-49bb-9c79-5e6e88034a36"
      },
      "execution_count": 12,
      "outputs": [
        {
          "output_type": "stream",
          "name": "stdout",
          "text": [
            "SHIFT\n",
            "HIFTS\n",
            "IFTSH\n",
            "FTSHI\n",
            "TSHIF\n"
          ]
        }
      ]
    },
    {
      "cell_type": "markdown",
      "source": [
        "9. Write a program in python that accepts a string to setup a passwords. Your entered password must\n",
        "meet the following requirements:\n",
        "The password must be at least eight characters long.\n",
        "It must contain at least one uppercase letter.\n",
        "It must contain at least one lowercase letter.\n",
        "It must contain at least one numeric digit.\n",
        "Your program should should perform this validation\n",
        "\n",
        "\n",
        "\n"
      ],
      "metadata": {
        "id": "2PyReKSGMlOY"
      }
    },
    {
      "cell_type": "code",
      "source": [
        "def validate_password(password):\n",
        "    errors = []\n",
        "    if len(password) < 8: errors.append(\"Password too short\")\n",
        "    if not any(char.isupper() for char in password): errors.append(\"No uppercase letter\")\n",
        "    if not any(char.islower() for char in password): errors.append(\"No lowercase letter\")\n",
        "    if not any(char.isdigit() for char in password): errors.append(\"No digit\")\n",
        "    return errors\n",
        "\n",
        "password = input(\"Enter a password: \")\n",
        "errors = validate_password(password)\n",
        "if errors: print(\"Password invalid:\", errors)\n",
        "else: print(\"Password valid\")\n"
      ],
      "metadata": {
        "colab": {
          "base_uri": "https://localhost:8080/"
        },
        "id": "UJhe9y5JPRsj",
        "outputId": "8c68e1b6-13a7-47a4-8e4b-1bba2d85ace9"
      },
      "execution_count": 14,
      "outputs": [
        {
          "output_type": "stream",
          "name": "stdout",
          "text": [
            "Enter a password: Ssadeef123@\n",
            "Password valid\n"
          ]
        }
      ]
    }
  ]
}