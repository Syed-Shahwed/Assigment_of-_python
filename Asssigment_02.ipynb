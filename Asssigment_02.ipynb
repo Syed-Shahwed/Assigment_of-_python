{
  "nbformat": 4,
  "nbformat_minor": 0,
  "metadata": {
    "colab": {
      "provenance": [],
      "authorship_tag": "ABX9TyNAE0waZbM0hd+T5kDDyGBw",
      "include_colab_link": true
    },
    "kernelspec": {
      "name": "python3",
      "display_name": "Python 3"
    },
    "language_info": {
      "name": "python"
    }
  },
  "cells": [
    {
      "cell_type": "markdown",
      "metadata": {
        "id": "view-in-github",
        "colab_type": "text"
      },
      "source": [
        "<a href=\"https://colab.research.google.com/github/Syed-Shahwed/Assigment_of-_python/blob/main/Asssigment_02.ipynb\" target=\"_parent\"><img src=\"https://colab.research.google.com/assets/colab-badge.svg\" alt=\"Open In Colab\"/></a>"
      ]
    },
    {
      "cell_type": "markdown",
      "source": [
        "1.You are creating a program to manage a grocery shopping list. Users should be able to add items,\n",
        "remove items, and display the current list."
      ],
      "metadata": {
        "id": "ekE1vHv-u3FS"
      }
    },
    {
      "cell_type": "code",
      "execution_count": 5,
      "metadata": {
        "colab": {
          "base_uri": "https://localhost:8080/"
        },
        "id": "HdBYtcg-kK-A",
        "outputId": "87510daf-c54b-47bd-a3bf-4b39de9931e3"
      },
      "outputs": [
        {
          "name": "stdout",
          "output_type": "stream",
          "text": [
            "\n",
            "1. Add item\n",
            "2. Remove item\n",
            "3. Display list\n",
            "4. Quit\n",
            "Choose an option: 1\n",
            "Enter item to add: Tomato\n",
            "\n",
            "1. Add item\n",
            "2. Remove item\n",
            "3. Display list\n",
            "4. Quit\n",
            "Choose an option: Meat\n",
            "Invalid option\n",
            "\n",
            "1. Add item\n",
            "2. Remove item\n",
            "3. Display list\n",
            "4. Quit\n",
            "Choose an option: 3\n",
            "\n",
            "Grocery List:\n",
            "Tomato\n",
            "\n",
            "1. Add item\n",
            "2. Remove item\n",
            "3. Display list\n",
            "4. Quit\n",
            "Choose an option: 4\n"
          ]
        }
      ],
      "source": [
        "grocery_list = []\n",
        "\n",
        "while True:\n",
        "    print(\"\\n1. Add item\")\n",
        "    print(\"2. Remove item\")\n",
        "    print(\"3. Display list\")\n",
        "    print(\"4. Quit\")\n",
        "    choice = input(\"Choose an option: \")\n",
        "\n",
        "    if choice == \"1\":\n",
        "        item = input(\"Enter item to add: \")\n",
        "        grocery_list.append(item)\n",
        "    elif choice == \"2\":\n",
        "        item = input(\"Enter item to remove: \")\n",
        "        if item in grocery_list:\n",
        "            grocery_list.remove(item)\n",
        "        else:\n",
        "            print(\"Item not found\")\n",
        "    elif choice == \"3\":\n",
        "        print(\"\\nGrocery List:\")\n",
        "        for item in grocery_list:\n",
        "            print(item)\n",
        "    elif choice == \"4\":\n",
        "        break\n",
        "    else:\n",
        "        print(\"Invalid option\")\n"
      ]
    },
    {
      "cell_type": "markdown",
      "source": [
        "2.You are managing student grades using a dictionary. You need to calculate the average grade.take\n",
        "atleast 5 Students grades & then calculate the average."
      ],
      "metadata": {
        "id": "n5zXHuiFoR4Y"
      }
    },
    {
      "cell_type": "code",
      "source": [
        "student_grades = {\n",
        "    \"Alice\": [90, 85, 95],\n",
        "    \"Bob\": [80, 70, 90],\n",
        "    \"Charlie\": [95, 90, 85],\n",
        "    \"David\": [70, 80, 70],\n",
        "    \"Eve\": [85, 95, 90]\n",
        "}\n",
        "\n",
        "average_grades = {name: sum(grades) / len(grades) for name, grades in student_grades.items()}\n",
        "\n",
        "for name, average in average_grades.items():\n",
        "    print(f\"{name}: {average:.2f}\")"
      ],
      "metadata": {
        "colab": {
          "base_uri": "https://localhost:8080/"
        },
        "id": "lQE9mfKpoWRr",
        "outputId": "070fdd57-a66b-4ec6-9b44-507fe6ea7102"
      },
      "execution_count": 7,
      "outputs": [
        {
          "output_type": "stream",
          "name": "stdout",
          "text": [
            "Alice: 90.00\n",
            "Bob: 80.00\n",
            "Charlie: 90.00\n",
            "David: 73.33\n",
            "Eve: 90.00\n"
          ]
        }
      ]
    },
    {
      "cell_type": "markdown",
      "source": [
        "3.You are given a list of words, and you need to count the frequency of each word.\n",
        "word_list = [\"apple\", \"banana\", \"apple\", \"orange\", \"banana\", \"grape\", \"apple\"]"
      ],
      "metadata": {
        "id": "MESb3EKOqoY4"
      }
    },
    {
      "cell_type": "code",
      "source": [
        "word_list = [\"apple\", \"banana\", \"apple\", \"orange\", \"banana\", \"grape\", \"apple\"]\n",
        "word_freq = {}\n",
        "\n",
        "for word in word_list:\n",
        "    if word in word_freq:\n",
        "        word_freq[word] += 1\n",
        "    else:\n",
        "        word_freq[word] = 1\n",
        "\n",
        "print(word_freq)"
      ],
      "metadata": {
        "colab": {
          "base_uri": "https://localhost:8080/"
        },
        "id": "GoDZDh8AqxlQ",
        "outputId": "a6596493-5d09-47ef-e5de-a9dbe7844ef4"
      },
      "execution_count": 8,
      "outputs": [
        {
          "output_type": "stream",
          "name": "stdout",
          "text": [
            "{'apple': 3, 'banana': 2, 'orange': 1, 'grape': 1}\n"
          ]
        }
      ]
    },
    {
      "cell_type": "markdown",
      "source": [
        "Scenario 3: Password Strength Checker\n",
        "You are creating a program to check the strength of passwords based on certain criteria.\n",
        "* Password should be at least 8 characters long.\n",
        "* Password should contain at least one digit.\n",
        "* Password should contain at least one lett\n",
        "\n",
        "\n"
      ],
      "metadata": {
        "id": "IE5hSihbrlAK"
      }
    },
    {
      "cell_type": "code",
      "source": [
        "\n",
        "def check_password_strength(password):\n",
        "    if len(password) < 8:\n",
        "        return \"Password is too short. It should be at least 8 characters long.\"\n",
        "    if not any(char.isdigit() for char in password):\n",
        "        return \"Password should contain at least one digit.\"\n",
        "    if not any(char.isalpha() for char in password):\n",
        "        return \"Password should contain at least one letter.\"\n",
        "    return \"Password is strong.\"\n",
        "\n",
        "password = input(\"Enter your password: \")\n",
        "print(check_password_strength(password))"
      ],
      "metadata": {
        "colab": {
          "base_uri": "https://localhost:8080/"
        },
        "id": "mmRYsb17r_Pd",
        "outputId": "fe461aa2-843a-4e23-f752-38855af7ed89"
      },
      "execution_count": 9,
      "outputs": [
        {
          "output_type": "stream",
          "name": "stdout",
          "text": [
            "Enter your password: shahwed@0900\n",
            "Password is strong.\n"
          ]
        }
      ]
    },
    {
      "cell_type": "markdown",
      "source": [
        "Scenario 04: Voting System (Annual Employee Recognition Awards)\n",
        "You are developing a simple voting system for a contest. Users can vote for their Favorite option, and\n",
        "you need to count the votes.\n",
        "In a corporate setting, the HR department is organizing the Annual Employee Recognition Awards,\n",
        "where employees get the opportunity to vote for their colleagues nominated in different categories.\n",
        "The HR team has decided to use a simple voting system to collect and tally votes for the nominees in\n",
        "various award categories. The script provided will be utilized for this purpose.\n",
        "Candidates: The nominees for different award categories, such as \"Employee of the Year,\" \"Team\n",
        "Player of the Year,\" and \"Innovation Award,\" are represented by the list of candidates: 'Candidate A,'\n",
        "'Candidate B,' and 'Candidate C.'\n",
        "Voting Process: Employees are requested to input the number of voters participating in the awards.\n",
        "Each voter is presented with a list of nominees, and they can vote for their preferred candidate by\n",
        "entering the corresponding number.\n",
        "Validation: The script ensures that the entered vote is within the valid range of candidates. If an\n",
        "employee enters an invalid vote, the system prompts them to choose a valid candidate.\n",
        "Recording Votes: The script records each vote for the selected candidate and prints a confirmation\n",
        "message indicating that the vote has been recorded.\n",
        "Results Display: Once all votes are collected, the system displays the voting results, showing the\n",
        "number of votes each candidate received in each category.\n",
        "Award Winners: Based on the voting results, the HR department can identify the winners for each\n",
        "award category and proceed with recognizing and rewarding the selected employees during the\n",
        "Annual Employee Recognition Ceremony.\n",
        "This script provides a straightforward and transparent way for employees to participate in the\n",
        "recognition process, fostering a sense of engagement and community within the organization. The\n",
        "HR team can use the collected votes to acknowledge and appreciate the efforts of outstanding\n",
        "employees in various aspects of their wor"
      ],
      "metadata": {
        "id": "s8W_4WwMsggL"
      }
    },
    {
      "cell_type": "code",
      "source": [
        "\n",
        "candidates = {\n",
        "    1: \"shahwed\",\n",
        "    2: \"Ali\",\n",
        "    3: \"Ahmed\"\n",
        "}\n",
        "\n",
        "votes = {\n",
        "    \"shahwed\": 0,\n",
        "    \"Ali\": 0,\n",
        "    \"Ahmed\": 0\n",
        "}\n",
        "\n",
        "num_voters = int(input(\"Enter the number of voters: \"))\n",
        "\n",
        "for i in range(num_voters):\n",
        "    print(\"\\nVoter \", i+1)\n",
        "    for key, value in candidates.items():\n",
        "        print(key, \":\", value)\n",
        "    vote = int(input(\"Enter your vote (1/2/3): \"))\n",
        "    while vote not in candidates.keys():\n",
        "        vote = int(input(\"Invalid vote. Please enter a valid candidate number: \"))\n",
        "    votes[candidates[vote]] += 1\n",
        "    print(\"Vote recorded.\")\n",
        "\n",
        "print(\"\\nVoting Results:\")\n",
        "for candidate, vote_count in votes.items():\n",
        "    print(candidate, \":\", vote_count)\n",
        "\n",
        "max_votes = max(votes.values())\n",
        "winners = [candidate for candidate, vote_count in votes.items() if vote_count == max_votes]\n",
        "\n",
        "print(\"\\nWinner(s):\", winners)"
      ],
      "metadata": {
        "colab": {
          "base_uri": "https://localhost:8080/"
        },
        "id": "2sUvq71V0irf",
        "outputId": "eeb4c6ec-71ad-41d8-d535-ecb06f6a0869"
      },
      "execution_count": 12,
      "outputs": [
        {
          "output_type": "stream",
          "name": "stdout",
          "text": [
            "Enter the number of voters: 4\n",
            "\n",
            "Voter  1\n",
            "1 : shahwed\n",
            "2 : Ali\n",
            "3 : Ahmed\n",
            "Enter your vote (1/2/3): 1\n",
            "Vote recorded.\n",
            "\n",
            "Voter  2\n",
            "1 : shahwed\n",
            "2 : Ali\n",
            "3 : Ahmed\n",
            "Enter your vote (1/2/3): 3\n",
            "Vote recorded.\n",
            "\n",
            "Voter  3\n",
            "1 : shahwed\n",
            "2 : Ali\n",
            "3 : Ahmed\n",
            "Enter your vote (1/2/3): 1\n",
            "Vote recorded.\n",
            "\n",
            "Voter  4\n",
            "1 : shahwed\n",
            "2 : Ali\n",
            "3 : Ahmed\n",
            "Enter your vote (1/2/3): 2\n",
            "Vote recorded.\n",
            "\n",
            "Voting Results:\n",
            "shahwed : 2\n",
            "Ali : 1\n",
            "Ahmed : 1\n",
            "\n",
            "Winner(s): ['shahwed']\n"
          ]
        }
      ]
    }
  ]
}