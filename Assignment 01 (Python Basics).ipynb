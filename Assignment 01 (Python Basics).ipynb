{
 "cells": [
  {
   "cell_type": "markdown",
   "metadata": {},
   "source": [
    "# Part -1 Python Basics (Variables)"
   ]
  },
  {
   "cell_type": "markdown",
   "metadata": {},
   "source": [
    "1. Print Your Name with your Father name and Date of birth using suitable escape sequence charactor"
   ]
  },
  {
   "cell_type": "code",
   "execution_count": 11,
   "metadata": {},
   "outputs": [
    {
     "name": "stdout",
     "output_type": "stream",
     "text": [
      "OUTPUT\n",
      "Syed Shahwed Hussain Shah \n",
      " Syed Shahzad Hussain Shah \n",
      " 8 september 2002 \n",
      "\n"
     ]
    }
   ],
   "source": [
    "print(\"OUTPUT\")\n",
    "Name=\"Syed Shahwed Hussain Shah \\n\"\n",
    "Father_name=\"Syed Shahzad Hussain Shah \\n\"\n",
    "Date_of_Brith=\"8 september 2002 \\n\"\n",
    "print(Name,Father_name,Date_of_Brith)"
   ]
  },
  {
   "cell_type": "markdown",
   "metadata": {},
   "source": [
    "2. Write your small bio using variables and print it using print function"
   ]
  },
  {
   "cell_type": "code",
   "execution_count": 16,
   "metadata": {},
   "outputs": [
    {
     "name": "stdout",
     "output_type": "stream",
     "text": [
      "Outout\n",
      "My name is syed shahwed hussain shah.I am studing in National University Of Modren Langiage(NUML).I am the studemt of BSCS.I am porfessionally a Website developer\n"
     ]
    }
   ],
   "source": [
    "print(\"Outout\")\n",
    "my_bio='''My name is syed shahwed hussain shah.I am studing in National University Of Modren Langiage(NUML).I am the studemt of BSCS.I am porfessionally a Website developer'''\n",
    "print(my_bio)"
   ]
  },
  {
   "cell_type": "markdown",
   "metadata": {},
   "source": [
    "3. Write a program in which use all the operators we can use in Python"
   ]
  },
  {
   "cell_type": "code",
   "execution_count": 36,
   "metadata": {},
   "outputs": [
    {
     "name": "stdout",
     "output_type": "stream",
     "text": [
      "OUTPUT\n",
      "Arthamatical operater\n",
      "a = 4   b = 3\n",
      "Addition 7\n",
      "Multiplication 12\n",
      "Subraction 1\n",
      "Division 1.3333333333333333\n",
      "Comparission operater\n",
      "Equal False\n",
      "Not Equal True\n",
      "Greater then True\n",
      "Smaller then False\n",
      "Logical operater\n",
      "AND 3\n",
      "OR 4\n",
      "NOT False\n"
     ]
    }
   ],
   "source": [
    "print(\"OUTPUT\")\n",
    "#Arthamatical operater\n",
    "print(\"Arthamatical operater\")\n",
    "a=4\n",
    "b=3\n",
    "print(\"a =\",a,\" \",\"b =\",b)\n",
    "print(\"Addition\",a+b)\n",
    "print(\"Multiplication\",a*b)\n",
    "print(\"Subraction\",a-b)\n",
    "print(\"Division\",a/b)\n",
    "#Comaprission operater\n",
    "print(\"Comparission operater\")\n",
    "print(\"Equal\",a==b)\n",
    "print(\"Not Equal\",a!=b)\n",
    "print(\"Greater then\",a>b)\n",
    "print(\"Smaller then\",a<b)\n",
    "#Logical operater\n",
    "print(\"Logical operater\")\n",
    "print(\"AND\",a and b)\n",
    "print(\"OR\",a or b)\n",
    "print(\"NOT\",not b)"
   ]
  },
  {
   "cell_type": "markdown",
   "metadata": {},
   "source": [
    "4. Completes the following steps of small task:\n",
    "    - Mention Marks of English , Islamiat and Maths out of 100 in 3 different variables\n",
    "    - Mention Variable of Total Marks and assign 300 to it\n",
    "    - Calculate Percentage"
   ]
  },
  {
   "cell_type": "code",
   "execution_count": 39,
   "metadata": {},
   "outputs": [
    {
     "name": "stdout",
     "output_type": "stream",
     "text": [
      "OUTPUT\n",
      "OBTAIN MARKS 201\n",
      "TOTEL MARKS 300\n",
      "PERCENTAGE 67.0\n"
     ]
    }
   ],
   "source": [
    "English=54\n",
    "Isalmiat=63\n",
    "Math=84\n",
    "Totel_marks=300\n",
    "Obtain_marks=English+Isalmiat+Math\n",
    "print(\"OUTPUT\")\n",
    "print(\"OBTAIN MARKS\",Obtain_marks)\n",
    "print(\"TOTEL MARKS\",Totel_marks)\n",
    "print(\"PERCENTAGE\",Obtain_marks/Totel_marks*100)"
   ]
  },
  {
   "cell_type": "markdown",
   "metadata": {},
   "source": [
    "# Part -2 Python Basics (Conditional Statements)"
   ]
  },
  {
   "cell_type": "markdown",
   "metadata": {},
   "source": [
    "1) A company decided to give bonus of 5% to employee if his/her year of service is more than 5 years.\n",
    "Ask user for their salary and year of service and print the net bonus amount."
   ]
  },
  {
   "cell_type": "code",
   "execution_count": 4,
   "metadata": {},
   "outputs": [
    {
     "name": "stdout",
     "output_type": "stream",
     "text": [
      "OUTPUT\n"
     ]
    },
    {
     "name": "stdin",
     "output_type": "stream",
     "text": [
      "ENTER YOUR SALARY 35000\n",
      "ENTER YOUR SERVICE DURATION 2\n"
     ]
    },
    {
     "name": "stdout",
     "output_type": "stream",
     "text": [
      "YOUR ARE MOT ELIGIABLE \n"
     ]
    }
   ],
   "source": [
    "print(\"OUTPUT\")\n",
    "salary=float(input(\"ENTER YOUR SALARY\"))\n",
    "year_of_service=int(input(\"ENTER YOUR SERVICE DURATION\"))\n",
    "if year_of_service>5:\n",
    "    bonus_amount=salary*0.05\n",
    "    print(\"YOUR BONUS AMMOUNT IS\",bonus_amount)\n",
    "else:\n",
    "    print(\"YOUR ARE MOT ELIGIABLE \")"
   ]
  },
  {
   "cell_type": "markdown",
   "metadata": {},
   "source": [
    "\n",
    "2) Write a program to check whether a person is eligible for voting or not. (accept age from user) if age is greater than 17 eligible otherwise not eligible"
   ]
  },
  {
   "cell_type": "code",
   "execution_count": 6,
   "metadata": {},
   "outputs": [
    {
     "name": "stdout",
     "output_type": "stream",
     "text": [
      "OUTPUT\n"
     ]
    },
    {
     "name": "stdin",
     "output_type": "stream",
     "text": [
      "ENTER YOUR AGE 56\n"
     ]
    },
    {
     "name": "stdout",
     "output_type": "stream",
     "text": [
      "YOU ARE ELIGIABLE FOR VOTING\n"
     ]
    }
   ],
   "source": [
    "print(\"OUTPUT\")\n",
    "p_age=int(input(\"ENTER YOUR AGE\"))\n",
    "if p_age>17:\n",
    "    print(\"YOU ARE ELIGIABLE FOR VOTING\")\n",
    "else:\n",
    "     print(\"YOU ARE NOT ELIGIABLE FOR VOTING\")"
   ]
  },
  {
   "cell_type": "markdown",
   "metadata": {},
   "source": [
    "\n",
    "3) Write a program to check whether a number entered by user is even or odd."
   ]
  },
  {
   "cell_type": "code",
   "execution_count": 8,
   "metadata": {},
   "outputs": [
    {
     "name": "stdout",
     "output_type": "stream",
     "text": [
      "OUTPUT\n",
      "NUMBER IS EVEN\n"
     ]
    }
   ],
   "source": [
    "print(\"OUTPUT\")\n",
    "num=8\n",
    "if num%2==0:\n",
    "    print(\"NUMBER IS EVEN\")\n",
    "else:\n",
    "    print(\"NUMBER IS ODD\")"
   ]
  },
  {
   "cell_type": "markdown",
   "metadata": {},
   "source": [
    "4) Write a program to check whether a number is divisible by 7 or not.\n",
    "Show Answer"
   ]
  },
  {
   "cell_type": "code",
   "execution_count": 18,
   "metadata": {},
   "outputs": [
    {
     "name": "stdout",
     "output_type": "stream",
     "text": [
      "OUTPUT\n",
      "NUMBER CAN DIVIDED BY 7\n"
     ]
    }
   ],
   "source": [
    "print(\"OUTPUT\")\n",
    "num=49\n",
    "if num%7==0:\n",
    "    print(\"NUMBER CAN DIVIDED BY 7\")\n",
    "else:\n",
    "    print(\"NUMBER CAN NOT DIVODED BY 7\")"
   ]
  },
  {
   "cell_type": "markdown",
   "metadata": {},
   "source": [
    "5) Write a program to display \n",
    "\"Hello\" if a number entered by user is a multiple of five , otherwise print \"Bye\"."
   ]
  },
  {
   "cell_type": "code",
   "execution_count": 20,
   "metadata": {},
   "outputs": [
    {
     "name": "stdout",
     "output_type": "stream",
     "text": [
      "OUTPUT\n"
     ]
    },
    {
     "name": "stdin",
     "output_type": "stream",
     "text": [
      "ENTER A NUNBER 25\n"
     ]
    },
    {
     "name": "stdout",
     "output_type": "stream",
     "text": [
      "HELLO\n"
     ]
    }
   ],
   "source": [
    "print(\"OUTPUT\")\n",
    "num=int(input(\"ENTER A NUNBER\"))\n",
    "if num%5==0:\n",
    "    print(\"HELLO\")\n",
    "else:\n",
    "    print(\"BYE\")"
   ]
  },
  {
   "cell_type": "markdown",
   "metadata": {},
   "source": [
    "7) Write a program to display the last digit of a number.\n"
   ]
  },
  {
   "cell_type": "code",
   "execution_count": 22,
   "metadata": {},
   "outputs": [
    {
     "name": "stdout",
     "output_type": "stream",
     "text": [
      "OUTPUT\n",
      "THE LAST DIGIT OF A NUMBER IS 0\n"
     ]
    }
   ],
   "source": [
    "print(\"OUTPUT\")\n",
    "num=40\n",
    "last_digit=num%10\n",
    "print(\"THE LAST DIGIT OF A NUMBER IS\",last_digit)"
   ]
  },
  {
   "cell_type": "markdown",
   "metadata": {},
   "source": [
    "9) Take values of length and breadth of a rectangle from user and print if it is square or rectangle."
   ]
  },
  {
   "cell_type": "code",
   "execution_count": 23,
   "metadata": {},
   "outputs": [
    {
     "name": "stdout",
     "output_type": "stream",
     "text": [
      "OUTPUT\n"
     ]
    },
    {
     "name": "stdin",
     "output_type": "stream",
     "text": [
      "ENTER LENGTH OF RECTANGLE 5\n",
      "ENTER BREADTH OF RECTANGLE 5\n"
     ]
    },
    {
     "name": "stdout",
     "output_type": "stream",
     "text": [
      "IT IS A SQUARE\n"
     ]
    }
   ],
   "source": [
    "print(\"OUTPUT\")\n",
    "length=float(input(\"ENTER LENGTH OF RECTANGLE\"))\n",
    "breadth=float(input(\"ENTER BREADTH OF RECTANGLE\"))\n",
    "if length==breadth:\n",
    "    print(\"IT IS A SQUARE\")\n",
    "else:\n",
    "      print(\"IT IS A RECTANGLE\")"
   ]
  },
  {
   "cell_type": "markdown",
   "metadata": {},
   "source": [
    "10) Take two int values from user and print greatest among them."
   ]
  },
  {
   "cell_type": "code",
   "execution_count": 25,
   "metadata": {},
   "outputs": [
    {
     "name": "stdout",
     "output_type": "stream",
     "text": [
      "OUTPUT\n"
     ]
    },
    {
     "name": "stdin",
     "output_type": "stream",
     "text": [
      "ENTER FIRST NUMBER 5\n",
      "ENTER SECAND NUMBER 8\n"
     ]
    },
    {
     "name": "stdout",
     "output_type": "stream",
     "text": [
      "8  IS greater \n"
     ]
    }
   ],
   "source": [
    "print(\"OUTPUT\")\n",
    "num1=int(input(\"ENTER FIRST NUMBER\"))\n",
    "num2=int(input(\"ENTER SECAND NUMBER\"))\n",
    "if num1>num2:\n",
    "    print(num1,\"JS GREATER\")\n",
    "else:\n",
    "      print(num2,\" IS greater \")"
   ]
  },
  {
   "cell_type": "markdown",
   "metadata": {},
   "source": [
    "11) A shop will give discount of 10% if the cost of purchased quantity is more than 1000.\n",
    "Ask user for quantity\n",
    "Suppose, one unit will cost 100.\n",
    "Judge and print total cost for user."
   ]
  },
  {
   "cell_type": "code",
   "execution_count": 30,
   "metadata": {},
   "outputs": [
    {
     "name": "stdout",
     "output_type": "stream",
     "text": [
      "OUTPUT\n"
     ]
    },
    {
     "name": "stdin",
     "output_type": "stream",
     "text": [
      "ENTER QUANTITY 2000\n"
     ]
    },
    {
     "name": "stdout",
     "output_type": "stream",
     "text": [
      "TOTEL COST IS 180000.0\n"
     ]
    }
   ],
   "source": [
    "print(\"OUTPUT\")\n",
    "quantity=int(input(\"ENTER QUANTITY\"))\n",
    "totel_cost=quantity*100\n",
    "if totel_cost > 1000:\n",
    "    discount=totel_cost*0.10\n",
    "    final_cost=totel_cost-discount\n",
    "    print(\"TOTEL COST IS\",final_cost)\n",
    "else:\n",
    "     print(\"TOTEL COST IS\",totel_cost)"
   ]
  },
  {
   "cell_type": "markdown",
   "metadata": {},
   "source": [
    "12) A school has following rules for grading system:\n",
    "\n",
    "a. Below 25 - F\n",
    "\n",
    "b. 25 to 45 - E\n",
    "\n",
    "c. 45 to 50 - D\n",
    "\n",
    "d. 50 to 60 - C\n",
    "\n",
    "e. 60 to 80 - B\n",
    "\n",
    "f. Above 80 - A\n",
    "\n",
    "Ask user to enter marks and print the corresponding grade."
   ]
  },
  {
   "cell_type": "code",
   "execution_count": 38,
   "metadata": {},
   "outputs": [
    {
     "name": "stdout",
     "output_type": "stream",
     "text": [
      "OUTPUT\n"
     ]
    },
    {
     "name": "stdin",
     "output_type": "stream",
     "text": [
      "ENTER YOUR OBTAIN MARKS 800\n",
      "ENTER YOUR TOTEL MARKS 1100\n"
     ]
    },
    {
     "name": "stdout",
     "output_type": "stream",
     "text": [
      "PERCENTAGE 72.72727272727273\n",
      "GRADE B\n"
     ]
    }
   ],
   "source": [
    "print(\"OUTPUT\")\n",
    "Obtain_marks=int(input(\"ENTER YOUR OBTAIN MARKS\"))\n",
    "Totel_marks=int(input(\"ENTER YOUR TOTEL MARKS\"))\n",
    "percent=Obtain_marks/Totel_marks*100\n",
    "print(\"PERCENTAGE\",percent)\n",
    "if percent<25:\n",
    "    print(\"GRADE F\")\n",
    "elif(percent<45):\n",
    "    print(\"GRADE E\")\n",
    "elif(percent<50):\n",
    "    print(\"GRADE D\")\n",
    "elif(percent<60):\n",
    "    print(\"GRADE C\")\n",
    "elif(percent<=80):\n",
    "    print(\"GRADE B\")\n",
    "else:\n",
    "    print(\"GRADE A\")"
   ]
  },
  {
   "cell_type": "markdown",
   "metadata": {},
   "source": [
    "14)A student will not be allowed to sit in exam if his/her attendence is less than 75%.\n",
    "\n",
    "Take following input from user\n",
    "\n",
    "- Number of classes held\n",
    "\n",
    "- Number of classes attended.\n",
    "\n",
    "And print\n",
    "\n",
    "- percentage of class attended\n",
    "\n",
    "- Is student is allowed to sit in exam or not.\n"
   ]
  },
  {
   "cell_type": "code",
   "execution_count": 40,
   "metadata": {},
   "outputs": [
    {
     "name": "stdin",
     "output_type": "stream",
     "text": [
      "ENTER THE TOTEL NUMBER OF CLASS HELD 300\n",
      "ENTER THE TOTEL NUMBER OF CLASS THAT STUDENT ATTENDED 200\n"
     ]
    },
    {
     "name": "stdout",
     "output_type": "stream",
     "text": [
      "PERCENTAGE 66.66666666666666\n",
      "STUDENT CAN NOT SIT IN EXAM\n"
     ]
    }
   ],
   "source": [
    "Class_held=int(input(\"ENTER THE TOTEL NUMBER OF CLASS HELD\"))\n",
    "p_attend= int(input(\"ENTER THE TOTEL NUMBER OF CLASS THAT STUDENT ATTENDED\"))\n",
    "percent=p_attend/Class_held*100\n",
    "print(\"PERCENTAGE\",percent)\n",
    "if percent>75:\n",
    "    print(\"STUDENT CAN SIT IN EXAM\")\n",
    "else:\n",
    "     print(\"STUDENT CAN NOT SIT IN EXAM\")"
   ]
  },
  {
   "cell_type": "markdown",
   "metadata": {},
   "source": [
    "15) Modify the above question to allow student to sit if he/she has medical cause. Ask user if he/she has medical cause or not ( 'Y' or 'N' ) and print accordingly."
   ]
  },
  {
   "cell_type": "code",
   "execution_count": 46,
   "metadata": {},
   "outputs": [
    {
     "name": "stdin",
     "output_type": "stream",
     "text": [
      "ENTER THE TOTEL NUMBER OF CLASS HELD 400\n",
      "ENTER THE TOTEL NUMBER OF CLASS THAT STUDENT ATTENDED 200\n"
     ]
    },
    {
     "name": "stdout",
     "output_type": "stream",
     "text": [
      "PERCENTAGE 50.0\n",
      "STUDENT CAN NOT SIT IN EXAM\n"
     ]
    },
    {
     "name": "stdin",
     "output_type": "stream",
     "text": [
      "DO STUDENT HAVE ANY MADICAL ISSUE JUST TYPE Y/N y\n"
     ]
    },
    {
     "name": "stdout",
     "output_type": "stream",
     "text": [
      "STUDENT CAN SIT IN EXAM\n"
     ]
    }
   ],
   "source": [
    "Class_held=int(input(\"ENTER THE TOTEL NUMBER OF CLASS HELD\"))\n",
    "p_attend= int(input(\"ENTER THE TOTEL NUMBER OF CLASS THAT STUDENT ATTENDED\"))\n",
    "percent=p_attend/Class_held*100\n",
    "print(\"PERCENTAGE\",percent)\n",
    "if percent>75:\n",
    "    print(\"STUDENT CAN SIT IN EXAM\")\n",
    "else:\n",
    "     print(\"STUDENT CAN NOT SIT IN EXAM\")\n",
    "     madical_issue=str(input(\"DO STUDENT HAVE ANY MADICAL ISSUE JUST TYPE Y/N\"))\n",
    "if madical_issue==\"y\":\n",
    "         print(\"STUDENT CAN SIT IN EXAM\")\n",
    "else:\n",
    "        print(\"STUDENT CAN NOT SIT IN EXAM\")"
   ]
  },
  {
   "cell_type": "markdown",
   "metadata": {},
   "source": [
    "16) Write a program to check if a year is leap year or not.\n",
    "\n",
    "If a year is divisible by 4 then it is leap year but if the year is century year like 2000, 1900, 2100 then it must be divisible by 400."
   ]
  },
  {
   "cell_type": "code",
   "execution_count": 51,
   "metadata": {},
   "outputs": [
    {
     "name": "stdout",
     "output_type": "stream",
     "text": [
      "OUTPUT\n"
     ]
    },
    {
     "name": "stdin",
     "output_type": "stream",
     "text": [
      "ENTER YHE YEAR 2024\n"
     ]
    },
    {
     "name": "stdout",
     "output_type": "stream",
     "text": [
      "IT IS A LEAP YEAR\n"
     ]
    }
   ],
   "source": [
    "print(\"OUTPUT\")\n",
    "year=int(input(\"ENTER YHE YEAR\"))\n",
    "if year%4==0 or year%400==0 :\n",
    "    print(\"IT IS A LEAP YEAR\")\n",
    "else:\n",
    "     print(\"IT IS NOT A LEAP YEAR\")"
   ]
  },
  {
   "cell_type": "markdown",
   "metadata": {},
   "source": [
    "17) Ask user to enter age, gender ( M or F ), marital status ( Y or N ) and then using following rules print their place of service.\n",
    "\n",
    "if employee is female, then she will work only in urban areas.\n",
    "\n",
    "if employee is a male and age is in between 20 to 40 then he may work in anywhere\n",
    "\n",
    "if employee is male and age is in between 40 t0 60 then he will work in urban areas only.\n",
    "\n",
    "And any other input of age should print \"ERROR\""
   ]
  },
  {
   "cell_type": "code",
   "execution_count": 12,
   "metadata": {},
   "outputs": [
    {
     "name": "stdout",
     "output_type": "stream",
     "text": [
      "OUTPUT\n"
     ]
    },
    {
     "name": "stdin",
     "output_type": "stream",
     "text": [
      "ENTER YOUR AGE 21\n",
      "ENTER YPOUR GENDER USING F/M M\n",
      "YOU ARE MARRIED Y/N N\n"
     ]
    },
    {
     "name": "stdout",
     "output_type": "stream",
     "text": [
      "YOU CAN WORK ANYWHERE\n"
     ]
    }
   ],
   "source": [
    "print(\"OUTPUT\")\n",
    "emp_age=int(input(\"ENTER YOUR AGE\"))\n",
    "emp_gend=str(input(\"ENTER YPOUR GENDER USING F/M\"))\n",
    "mard_status=str(input(\"YOU ARE MARRIED Y/N\"))\n",
    "if emp_gend==\"F\" and 20<=emp_age<=60:\n",
    "    print(\"YOU CAN ONLY WORK IN URBAN AREAS\")\n",
    "elif emp_gend==\"M\" and 20<=emp_age<40:\n",
    "       print(\"YOU CAN WORK ANYWHERE\")\n",
    "elif emp_gend==\"M\" and 40<=emp_age<=60:\n",
    "       print(\"YOU CAN  WORK IN URBAN AREAS\")\n",
    "else:\n",
    "    print(\"ERROR\")"
   ]
  },
  {
   "cell_type": "markdown",
   "metadata": {},
   "source": [
    "6) Write a program to calculate the electricity bill (accept number of unit from user) according to the following criteria :\n",
    "     Unit                                                     Price  \n",
    "uptp 100 units                                             no charge\n",
    "Next 200 units                                              Rs 5 per unit\n",
    "After 200 units                                             Rs 10 per unit\n",
    "(For example if input unit is 350 than total bill amount is Rs.3500\n",
    "(For example if input unit is 97 than total bill amount is Rs.0\n",
    "(For example if input unit is 150 than total bill amount is Rs.750B"
   ]
  },
  {
   "cell_type": "code",
   "execution_count": 22,
   "metadata": {},
   "outputs": [
    {
     "name": "stdout",
     "output_type": "stream",
     "text": [
      "OUTPUT\n"
     ]
    },
    {
     "name": "stdin",
     "output_type": "stream",
     "text": [
      "ENTER YOUR ELECTRICITY UNITS 150\n"
     ]
    },
    {
     "name": "stdout",
     "output_type": "stream",
     "text": [
      "7508\n"
     ]
    }
   ],
   "source": [
    "print(\"OUTPUT\")\n",
    "unit=int(input(\"ENTER YOUR ELECTRICITY UNITS\"))\n",
    "if unit<=100:\n",
    "    bill_ammount=0\n",
    "elif unit<=200:\n",
    "    bill_ammount=5*unit*10+8\n",
    "else:\n",
    "    bill_ammount=10*unit\n",
    "print(bill_ammount)    "
   ]
  },
  {
   "cell_type": "markdown",
   "metadata": {},
   "source": [
    "13) Take input of age of 3 people by user and determine oldest and youngest among them."
   ]
  },
  {
   "cell_type": "code",
   "execution_count": 25,
   "metadata": {},
   "outputs": [
    {
     "name": "stdout",
     "output_type": "stream",
     "text": [
      "OUTPUT\n"
     ]
    },
    {
     "name": "stdin",
     "output_type": "stream",
     "text": [
      "Enter First person Age 32\n",
      "Enter Secand person Age 64\n",
      "Enter Third person Age 75\n"
     ]
    },
    {
     "name": "stdout",
     "output_type": "stream",
     "text": [
      "OLDER BETWEEN THEN IS 75\n",
      "YPUMGEST BETWEEN THEN IS 32\n"
     ]
    }
   ],
   "source": [
    "print(\"OUTPUT\")\n",
    "p1_age=int(input(\"Enter First person Age\"))\n",
    "p2_age=int(input(\"Enter Secand person Age\"))\n",
    "p3_age=int(input(\"Enter Third person Age\"))\n",
    "\n",
    "if p1_age>p2_age and p1_age>p3_age:\n",
    "    older=p1_age\n",
    "    if p2_age<p3_age:\n",
    "        youngest=p2_age\n",
    "    else:\n",
    "        youngest=p3_age\n",
    "        \n",
    "elif p2_age>p1_age and p2_age>p3_age:\n",
    "    older=p2_age\n",
    "    if p1_age<p3_age:\n",
    "        youngest=p1_age\n",
    "    else:\n",
    "        youngest=p3_age\n",
    "\n",
    "else:\n",
    "    older=p3_age\n",
    "    if p1_age<p2_age:\n",
    "        youngest=p1_age\n",
    "    else:\n",
    "        youngest=p2_age\n",
    "print(\"OLDER BETWEEN THEN IS\",older)\n",
    "print(\"YPUMGEST BETWEEN THEN IS\",youngest)"
   ]
  }
 ],
 "metadata": {
  "kernelspec": {
   "display_name": "Python 3 (ipykernel)",
   "language": "python",
   "name": "python3"
  },
  "language_info": {
   "codemirror_mode": {
    "name": "ipython",
    "version": 3
   },
   "file_extension": ".py",
   "mimetype": "text/x-python",
   "name": "python",
   "nbconvert_exporter": "python",
   "pygments_lexer": "ipython3",
   "version": "3.11.7"
  }
 },
 "nbformat": 4,
 "nbformat_minor": 4
}
